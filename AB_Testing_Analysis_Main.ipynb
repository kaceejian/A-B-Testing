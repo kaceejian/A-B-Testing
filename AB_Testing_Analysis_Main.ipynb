{
 "cells": [
  {
   "cell_type": "markdown",
   "id": "640bc3d1",
   "metadata": {},
   "source": [
    "## Import Data & Data Cleaning"
   ]
  },
  {
   "cell_type": "code",
   "execution_count": 2,
   "id": "350e2599",
   "metadata": {},
   "outputs": [],
   "source": [
    "import pandas as pd\n",
    "import numpy as np\n",
    "import matplotlib.pyplot as plt\n",
    "%matplotlib inline"
   ]
  },
  {
   "cell_type": "code",
   "execution_count": null,
   "id": "8a8104be",
   "metadata": {},
   "outputs": [],
   "source": [
    "df=pd.read_excel('sample ab_data.xlsx')\n",
    "df.head(10)"
   ]
  },
  {
   "cell_type": "markdown",
   "id": "9b08b295",
   "metadata": {},
   "source": [
    "## Get an overview of the dataset"
   ]
  },
  {
   "cell_type": "code",
   "execution_count": null,
   "id": "7e4b67b9",
   "metadata": {},
   "outputs": [],
   "source": [
    "df.info()"
   ]
  },
  {
   "cell_type": "markdown",
   "id": "16e8b97e",
   "metadata": {},
   "source": [
    "## Check if 'group' aligns with 'landing_page'"
   ]
  },
  {
   "cell_type": "code",
   "execution_count": null,
   "id": "1a1485d5",
   "metadata": {},
   "outputs": [],
   "source": [
    "((df.group=='treatment') & (df.landing_page=='old_page')).sum()"
   ]
  },
  {
   "cell_type": "code",
   "execution_count": null,
   "id": "7264a8af",
   "metadata": {},
   "outputs": [],
   "source": [
    "((df.group=='control') & (df.landing_page=='new_page')).sum()"
   ]
  },
  {
   "cell_type": "code",
   "execution_count": null,
   "id": "19b56639",
   "metadata": {},
   "outputs": [],
   "source": [
    "df['misaligned']=((df.group=='treatment') & (df.landing_page=='old_page')) | ((df.group=='control') & (df.landing_page=='new_page'))"
   ]
  },
  {
   "cell_type": "code",
   "execution_count": null,
   "id": "427ca159",
   "metadata": {},
   "outputs": [],
   "source": [
    "df['misaligned'].head()"
   ]
  },
  {
   "cell_type": "code",
   "execution_count": null,
   "id": "43186bb8",
   "metadata": {},
   "outputs": [],
   "source": [
    "df=df-df['misaligned']\n"
   ]
  },
  {
   "cell_type": "code",
   "execution_count": null,
   "id": "61f2168e",
   "metadata": {},
   "outputs": [],
   "source": [
    "df.info()"
   ]
  },
  {
   "cell_type": "code",
   "execution_count": null,
   "id": "9671a4c9",
   "metadata": {},
   "outputs": [],
   "source": []
  }
 ],
 "metadata": {
  "kernelspec": {
   "display_name": "Python 3 (ipykernel)",
   "language": "python",
   "name": "python3"
  },
  "language_info": {
   "codemirror_mode": {
    "name": "ipython",
    "version": 3
   },
   "file_extension": ".py",
   "mimetype": "text/x-python",
   "name": "python",
   "nbconvert_exporter": "python",
   "pygments_lexer": "ipython3",
   "version": "3.9.12"
  }
 },
 "nbformat": 4,
 "nbformat_minor": 5
}
